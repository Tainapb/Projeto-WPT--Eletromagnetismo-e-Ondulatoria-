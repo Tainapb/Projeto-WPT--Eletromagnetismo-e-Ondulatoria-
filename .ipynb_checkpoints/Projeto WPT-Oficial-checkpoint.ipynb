{
 "cells": [
  {
   "cell_type": "code",
   "execution_count": 2,
   "id": "a38c3d26",
   "metadata": {},
   "outputs": [],
   "source": [
    "#Vamos importar os módulos que precisamos\n",
    "from cmath import *\n",
    "from numpy import linalg\n",
    "import matplotlib.pyplot as plt\n",
    "import numpy as np"
   ]
  },
  {
   "cell_type": "markdown",
   "id": "d5a6d7a8",
   "metadata": {},
   "source": [
    "# Etapa 1\n",
    "### Atividade 1"
   ]
  },
  {
   "cell_type": "raw",
   "id": "e67fcfa7",
   "metadata": {},
   "source": [
    "[ inserir foto do do diagrama do modelo WPT  ]"
   ]
  },
  {
   "cell_type": "raw",
   "id": "5ee75210",
   "metadata": {},
   "source": [
    "[inserir demonstração de calculo da frequencia de ressonancia do conjunto LC]\n",
    "\n",
    "Wressonancia = sqrt(LC)\n"
   ]
  },
  {
   "cell_type": "markdown",
   "id": "5eab2de8",
   "metadata": {},
   "source": [
    "### Atividade 2"
   ]
  },
  {
   "cell_type": "code",
   "execution_count": 3,
   "id": "f15cd7cc",
   "metadata": {},
   "outputs": [],
   "source": [
    "#classe transformador\n",
    "class Transformador():\n",
    "    R1=0\n",
    "    R2=0\n",
    "    L1=0\n",
    "    L2=0\n",
    "    C1=0\n",
    "    C2=0\n",
    "    k=1\n",
    "    def M(self):\n",
    "        return self.k*sqrt(self.L1*self.L2)\n",
    "    def Ressonancia(self):\n",
    "        return [1/(2*pi*sqrt(self.L1*self.C1)), 1/(2*pi*sqrt(self.L2*self.C2))]\n",
    "    def FatoresDeQualidade(self):\n",
    "        return [sqrt(self.L1/self.C1)/self.R1, sqrt(self.L2/self.C2)/self.R2]"
   ]
  },
  {
   "cell_type": "code",
   "execution_count": 4,
   "id": "ceabc3ef",
   "metadata": {},
   "outputs": [],
   "source": [
    "# #Transformador com os dados do experimento\n",
    "# Trafo1 = Transformador()\n",
    "# Trafo1.R1=0.5\n",
    "# Trafo1.R2=0.5\n",
    "# Trafo1.L1=196e-6\n",
    "# Trafo1.L2=196e-6\n",
    "# Trafo1.C1=0.1e-6\n",
    "# Trafo1.C2=0.1e-6\n",
    "# Trafo1.k=1\n",
    "\n",
    "# print(Trafo1.M())\n",
    "# print(Trafo1.Ressonancia())\n",
    "# print(Trafo1.FatoresDeQualidade())"
   ]
  },
  {
   "cell_type": "code",
   "execution_count": 5,
   "id": "aea81c5b",
   "metadata": {},
   "outputs": [
    {
     "name": "stdout",
     "output_type": "stream",
     "text": [
      "(3.40987e-06+0j)\n",
      "[(30+0j), (30+0j)]\n",
      "[(0.00019186428432888764+0j), (0.00019186428432888764+0j)]\n"
     ]
    }
   ],
   "source": [
    "#calculando C\n",
    "C= 1/(((60*pi)**2)*3.40987e-6)\n",
    "\n",
    "#Transformador com os dados do experimento\n",
    "Trafo1 = Transformador()\n",
    "Trafo1.R1=3.35\n",
    "Trafo1.R2=3.35\n",
    "Trafo1.L1=3.40987e-6\n",
    "Trafo1.L2=3.40987e-6\n",
    "Trafo1.C1= C\n",
    "Trafo1.C2= C\n",
    "Trafo1.k=1\n",
    "\n",
    "print(Trafo1.M())\n",
    "print(Trafo1.Ressonancia())\n",
    "print(Trafo1.FatoresDeQualidade())"
   ]
  },
  {
   "cell_type": "markdown",
   "id": "20b6d83f",
   "metadata": {},
   "source": [
    "### Atividade 3"
   ]
  },
  {
   "cell_type": "code",
   "execution_count": 6,
   "id": "bd389299",
   "metadata": {},
   "outputs": [
    {
     "ename": "NameError",
     "evalue": "name 'CalcularTransformadorC2Paralelo' is not defined",
     "output_type": "error",
     "traceback": [
      "\u001b[1;31m---------------------------------------------------------------------------\u001b[0m",
      "\u001b[1;31mNameError\u001b[0m                                 Traceback (most recent call last)",
      "\u001b[1;32m<ipython-input-6-d73f6dda0dc0>\u001b[0m in \u001b[0;36m<module>\u001b[1;34m\u001b[0m\n\u001b[0;32m     23\u001b[0m         \u001b[1;31m#Trafo2.R1=0.5\u001b[0m\u001b[1;33m\u001b[0m\u001b[1;33m\u001b[0m\u001b[1;33m\u001b[0m\u001b[0m\n\u001b[0;32m     24\u001b[0m         \u001b[1;31m#Trafo2.R2=0.5\u001b[0m\u001b[1;33m\u001b[0m\u001b[1;33m\u001b[0m\u001b[1;33m\u001b[0m\u001b[0m\n\u001b[1;32m---> 25\u001b[1;33m         \u001b[0mi1\u001b[0m\u001b[1;33m,\u001b[0m \u001b[0mi2\u001b[0m \u001b[1;33m=\u001b[0m \u001b[0mCalcularTransformadorC2Paralelo\u001b[0m\u001b[1;33m(\u001b[0m\u001b[0mTrafo2\u001b[0m\u001b[1;33m,\u001b[0m \u001b[1;36m5\u001b[0m\u001b[1;33m,\u001b[0m \u001b[0mRc\u001b[0m\u001b[1;33m,\u001b[0m \u001b[0mfreq\u001b[0m\u001b[1;33m)\u001b[0m\u001b[1;33m\u001b[0m\u001b[1;33m\u001b[0m\u001b[0m\n\u001b[0m\u001b[0;32m     26\u001b[0m         \u001b[0mXC2\u001b[0m\u001b[1;33m=\u001b[0m\u001b[1;36m1\u001b[0m\u001b[1;33m/\u001b[0m\u001b[1;33m(\u001b[0m\u001b[1;36m1j\u001b[0m\u001b[1;33m*\u001b[0m\u001b[0mw\u001b[0m\u001b[1;33m*\u001b[0m\u001b[0mTrafo2\u001b[0m\u001b[1;33m.\u001b[0m\u001b[0mC2\u001b[0m\u001b[1;33m)\u001b[0m\u001b[1;33m\u001b[0m\u001b[1;33m\u001b[0m\u001b[0m\n\u001b[0;32m     27\u001b[0m         \u001b[0mZparalelo\u001b[0m\u001b[1;33m=\u001b[0m\u001b[1;36m1\u001b[0m\u001b[1;33m/\u001b[0m\u001b[1;33m(\u001b[0m\u001b[1;36m1\u001b[0m\u001b[1;33m/\u001b[0m\u001b[0mRc\u001b[0m\u001b[1;33m+\u001b[0m\u001b[1;36m1\u001b[0m\u001b[1;33m/\u001b[0m\u001b[0mXC2\u001b[0m\u001b[1;33m)\u001b[0m\u001b[1;33m\u001b[0m\u001b[1;33m\u001b[0m\u001b[0m\n",
      "\u001b[1;31mNameError\u001b[0m: name 'CalcularTransformadorC2Paralelo' is not defined"
     ]
    }
   ],
   "source": [
    "Trafo2 = Transformador()\n",
    "Trafo2.R1=3.35\n",
    "Trafo2.R2=3.35\n",
    "Trafo2.L1=3.40987e-6\n",
    "Trafo2.L2=3.40987e-6\n",
    "Trafo2.k=0.1\n",
    "lisFreq=np.linspace(1e3, 100e3, 100)\n",
    "\n",
    "Rc=400\n",
    "#lisIndutancias=np.linspace(10e-6, 1000e-6, 7)\n",
    "lisIndutancias=[50e-6, 100e-6, 200e-6, 300e-6, 400e-6, 500e-6]\n",
    "\n",
    "for L in lisIndutancias:\n",
    "    Trafo2.L1=L\n",
    "    Trafo2.L2=L\n",
    "    lisVout=[]\n",
    "    for freq in lisFreq:\n",
    "        w=2*pi*freq\n",
    "        Trafo2.C1=1/(Trafo2.L1*w**2)\n",
    "        Trafo2.C2=1/(Trafo2.L2*w**2)\n",
    "        Trafo2.R1=0.5+0.5*5*freq/100e3\n",
    "        Trafo2.R2=0.5+0.5*5*freq/100e3\n",
    "        #Trafo2.R1=0.5\n",
    "        #Trafo2.R2=0.5\n",
    "        i1, i2 = CalcularTransformadorC2Paralelo(Trafo2, 5, Rc, freq)\n",
    "        XC2=1/(1j*w*Trafo2.C2) \n",
    "        Zparalelo=1/(1/Rc+1/XC2)\n",
    "        Vout=Zparalelo*i2\n",
    "        lisVout.append(abs(Vout))\n",
    "\n",
    "    plt.plot(lisFreq, lisVout, label=\"L1=L2=%.1e H\" %L)\n",
    "plt.xlabel(\"Frequência de ressonância (Hz)\")\n",
    "plt.ylabel(\"Tensão V2 (V)\")\n",
    "plt.legend()\n",
    "plt.grid(True)\n",
    "plt.show()"
   ]
  },
  {
   "cell_type": "markdown",
   "id": "2be487b3",
   "metadata": {},
   "source": [
    "### Atividade 4"
   ]
  },
  {
   "cell_type": "code",
   "execution_count": null,
   "id": "9e635a32",
   "metadata": {},
   "outputs": [],
   "source": []
  },
  {
   "cell_type": "markdown",
   "id": "0aa09d77",
   "metadata": {},
   "source": [
    "### Atividade 5"
   ]
  },
  {
   "cell_type": "code",
   "execution_count": null,
   "id": "b3b996df",
   "metadata": {},
   "outputs": [],
   "source": []
  },
  {
   "cell_type": "markdown",
   "id": "dc80942b",
   "metadata": {},
   "source": [
    "### Atividade 6"
   ]
  },
  {
   "cell_type": "code",
   "execution_count": null,
   "id": "d6d0b51f",
   "metadata": {},
   "outputs": [],
   "source": []
  },
  {
   "cell_type": "code",
   "execution_count": null,
   "id": "dfe66ff9",
   "metadata": {},
   "outputs": [],
   "source": []
  },
  {
   "cell_type": "code",
   "execution_count": null,
   "id": "f7e5ff17",
   "metadata": {},
   "outputs": [],
   "source": []
  }
 ],
 "metadata": {
  "kernelspec": {
   "display_name": "Python 3",
   "language": "python",
   "name": "python3"
  },
  "language_info": {
   "codemirror_mode": {
    "name": "ipython",
    "version": 3
   },
   "file_extension": ".py",
   "mimetype": "text/x-python",
   "name": "python",
   "nbconvert_exporter": "python",
   "pygments_lexer": "ipython3",
   "version": "3.8.8"
  }
 },
 "nbformat": 4,
 "nbformat_minor": 5
}
